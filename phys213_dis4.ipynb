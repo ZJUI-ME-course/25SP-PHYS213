{
 "cells": [
  {
   "cell_type": "code",
   "execution_count": 5,
   "id": "4fe23a45",
   "metadata": {},
   "outputs": [
    {
     "name": "stdout",
     "output_type": "stream",
     "text": [
      "251.98420997897463\n"
     ]
    }
   ],
   "source": [
    "\n",
    "\n",
    "T1=300\n",
    "T2=400*(1/2)**(2/3)\n",
    "0.5*3/2*8.314*(T1-T2)\n",
    "print(T2)"
   ]
  },
  {
   "cell_type": "code",
   "execution_count": 6,
   "id": "624005f0",
   "metadata": {},
   "outputs": [
    {
     "data": {
      "text/latex": [
       "$\\displaystyle 150.052296225169$"
      ],
      "text/plain": [
       "150.052296225169"
      ]
     },
     "execution_count": 6,
     "metadata": {},
     "output_type": "execute_result"
    }
   ],
   "source": [
    "from sympy import *\n",
    "500*ln(270/200)"
   ]
  },
  {
   "cell_type": "code",
   "execution_count": 7,
   "id": "4e042b26",
   "metadata": {},
   "outputs": [
    {
     "data": {
      "text/plain": [
       "111041.1"
      ]
     },
     "execution_count": 7,
     "metadata": {},
     "output_type": "execute_result"
    }
   ],
   "source": [
    "270*77.93+90000"
   ]
  },
  {
   "cell_type": "code",
   "execution_count": 8,
   "id": "fbea6b70",
   "metadata": {},
   "outputs": [
    {
     "data": {
      "text/latex": [
       "$\\displaystyle -6.37050635398567$"
      ],
      "text/plain": [
       "-6.37050635398567"
      ]
     },
     "execution_count": 8,
     "metadata": {},
     "output_type": "execute_result"
    }
   ],
   "source": [
    "12.471*ln(0.6)"
   ]
  },
  {
   "cell_type": "code",
   "execution_count": 10,
   "id": "b255a28b",
   "metadata": {},
   "outputs": [
    {
     "data": {
      "text/latex": [
       "$\\displaystyle -6.37050635398567$"
      ],
      "text/plain": [
       "-6.37050635398567"
      ]
     },
     "execution_count": 10,
     "metadata": {},
     "output_type": "execute_result"
    }
   ],
   "source": [
    "8.314*3/2*ln(270/450)"
   ]
  },
  {
   "cell_type": "code",
   "execution_count": null,
   "id": "30fd19da",
   "metadata": {},
   "outputs": [
    {
     "data": {
      "text/plain": [
       "-498.10000000000014"
      ]
     },
     "execution_count": 11,
     "metadata": {},
     "output_type": "execute_result"
    }
   ],
   "source": [
    "270*6.47-2245fdffddd"
   ]
  }
 ],
 "metadata": {
  "kernelspec": {
   "display_name": "Python 3",
   "language": "python",
   "name": "python3"
  },
  "language_info": {
   "codemirror_mode": {
    "name": "ipython",
    "version": 3
   },
   "file_extension": ".py",
   "mimetype": "text/x-python",
   "name": "python",
   "nbconvert_exporter": "python",
   "pygments_lexer": "ipython3",
   "version": "3.9.6"
  }
 },
 "nbformat": 4,
 "nbformat_minor": 5
}
