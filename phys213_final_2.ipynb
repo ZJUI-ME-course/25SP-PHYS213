{
 "cells": [
  {
   "cell_type": "code",
   "execution_count": null,
   "id": "e7e69c8a",
   "metadata": {},
   "outputs": [],
   "source": [
    "# 1\n"
   ]
  }
 ],
 "metadata": {
  "language_info": {
   "name": "python"
  }
 },
 "nbformat": 4,
 "nbformat_minor": 5
}
