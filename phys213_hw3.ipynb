{
 "cells": [
  {
   "cell_type": "code",
   "execution_count": null,
   "id": "a33f6b53",
   "metadata": {},
   "outputs": [],
   "source": [
    "# 1\n"
   ]
  }
 ],
 "metadata": {
  "language_info": {
   "name": "python"
  }
 },
 "nbformat": 4,
 "nbformat_minor": 5
}
