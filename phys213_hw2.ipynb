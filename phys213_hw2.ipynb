{
 "cells": [
  {
   "cell_type": "code",
   "execution_count": 8,
   "id": "7bb25119",
   "metadata": {},
   "outputs": [
    {
     "name": "stdout",
     "output_type": "stream",
     "text": [
      "382.800312012481\n",
      "-37.3232507244464\n",
      "5.67089767588715\n"
     ]
    }
   ],
   "source": [
    "# 1\n",
    "# 热量守恒，金属损失的等于桶得到的，dertaQ=cv*m*dertaT\n",
    "# 熵变 dertaS=integrate(dQ/T,T)=m*c*ln(Tfinal/Tinitall)\n",
    "m_gold=1.4\n",
    "T_gold=300\n",
    "m_copper=2.2\n",
    "T_copper=400\n",
    "cv_gold=126 # j/kg/k\n",
    "cv_copper=386 # j/kg/k\n",
    "\n",
    "from sympy import *\n",
    "T2=S('T2')\n",
    "q1=m_gold*cv_gold*(T2-T_gold)-m_copper*cv_copper*(T_copper-T2)\n",
    "\n",
    "T2=solve(q1,T2)[0]\n",
    "print(T2)\n",
    "\n",
    "dertaS_copper=m_copper*cv_copper*ln(T2/T_copper)\n",
    "print(dertaS_copper)\n",
    "\n",
    "dertaS_gold=m_gold*cv_gold*ln(T2/T_gold)\n",
    "\n",
    "s_total=dertaS_copper+dertaS_gold\n",
    "print(s_total)\n",
    "\n"
   ]
  },
  {
   "cell_type": "code",
   "execution_count": 11,
   "id": "79ae7f84",
   "metadata": {},
   "outputs": [
    {
     "name": "stdout",
     "output_type": "stream",
     "text": [
      "334000.0\n"
     ]
    }
   ],
   "source": [
    "# 2\n",
    "# 熔化热 Lf 蒸发热 Lv kj/kg\n",
    "\n",
    "\n",
    "\n",
    "\n",
    "\n",
    "lf=334*1e3 # kj/kg\n",
    "dertaT=100 # k\n",
    "m=1.0  # kg\n",
    "\n",
    "dertaQ=m*lf\n",
    "print(dertaQ)"
   ]
  }
 ],
 "metadata": {
  "kernelspec": {
   "display_name": "Python 3",
   "language": "python",
   "name": "python3"
  },
  "language_info": {
   "codemirror_mode": {
    "name": "ipython",
    "version": 3
   },
   "file_extension": ".py",
   "mimetype": "text/x-python",
   "name": "python",
   "nbconvert_exporter": "python",
   "pygments_lexer": "ipython3",
   "version": "3.9.6"
  }
 },
 "nbformat": 4,
 "nbformat_minor": 5
}
